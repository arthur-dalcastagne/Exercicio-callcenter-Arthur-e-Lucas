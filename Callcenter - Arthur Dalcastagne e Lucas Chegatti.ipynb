{
 "cells": [
  {
   "cell_type": "markdown",
   "metadata": {},
   "source": [
    "Lista de variaveis"
   ]
  },
  {
   "cell_type": "code",
   "execution_count": null,
   "metadata": {},
   "outputs": [],
   "source": [
    "import pandas as pd\n",
    "import seaborn as sns\n",
    "import matplotlib.pyplot as plt\n",
    "import numpy as np\n",
    "\n",
    "def categorize(value):\n",
    "    if value == 'nao': \n",
    "        return 0 \n",
    "    return 1\n",
    "\n",
    "\n",
    "dataset = pd.read_csv(\"callcenter_marketing.csv\") #importação da planilha\n",
    "\n",
    "dataset['resultado']=dataset['resultado'].apply(categorize) #modificacão da coluna de resultado\n",
    "\n",
    "\n",
    "#dataset campos numericos\n",
    "dataset_numerico = dataset[['idade', 'duracao', 'qtd_contatos_campanha', 'dias_ultimo_contato', 'qtd_contatos_total', 'indice_precos_consumidor', 'indice_confianca_consumidor','euribor3m']]\n",
    "\n",
    "#dataset campos categoricos\n",
    "dataset_categorico = dataset[['profissao', 'estado_civil', 'educacao', 'inadimplente', 'emprestimo_moradia', 'emprestimo_pessoal', 'meio_contato', 'mes', 'dia_da_semana', 'campanha_anterior']]\n",
    "\n",
    "#campos categoricos\n",
    "for nome_coluna in dataset_categorico.columns:\n",
    "    dataset_categorico[nome_coluna].fillna('NÃO INFORMADA', inplace=True)\n",
    "    \n",
    "#dummy dos campos categoricos\n",
    "dataset_categorico_corrigido = pd.get_dummies(dataset_categorico)\n",
    "\n"
   ]
  },
  {
   "cell_type": "markdown",
   "metadata": {},
   "source": [
    "Plotagem com a correção das variaveis"
   ]
  },
  {
   "cell_type": "code",
   "execution_count": 353,
   "metadata": {},
   "outputs": [],
   "source": [
    "#ig, ax = plt.subplots(figsize=(10,10))\n",
    "\n",
    "dataset_concat_com_valor= pd.concat([dataset_categorico_corrigido,dataset['resultado']],axis=1)\n",
    "\n",
    "#del dataset_concat_com_valor['campanha_anterior_fracasso']\n",
    "#sns.heatmap(dataset_concat_com_valor.corr())#, annot=True, linewidths=.5, ax=ax)\n"
   ]
  },
  {
   "cell_type": "markdown",
   "metadata": {},
   "source": [
    "\n",
    "Concatenação do dataset categorico ja corrigido com o dataset numerico"
   ]
  },
  {
   "cell_type": "code",
   "execution_count": 354,
   "metadata": {},
   "outputs": [],
   "source": [
    "\n",
    "dataset_concat = pd.concat([dataset_categorico_corrigido, dataset_numerico], axis = 1)\n",
    "#dataset_concat.head()"
   ]
  },
  {
   "cell_type": "code",
   "execution_count": 355,
   "metadata": {},
   "outputs": [],
   "source": [
    "#target\n",
    "y = dataset['resultado']\n",
    "X = dataset_concat.iloc[:]\n",
    "X_train, X_test, y_train, y_test = train_test_split(X, y, test_size=0.3, random_state=0)\n",
    "\n",
    "X_test.reset_index(drop=True, inplace=True)\n",
    "y_test.reset_index(drop=True, inplace=True)\n"
   ]
  },
  {
   "cell_type": "markdown",
   "metadata": {},
   "source": [
    "Modelo linear"
   ]
  },
  {
   "cell_type": "code",
   "execution_count": 356,
   "metadata": {},
   "outputs": [
    {
     "name": "stdout",
     "output_type": "stream",
     "text": [
      "O acerto percentual é: 90.02184996358339\n"
     ]
    }
   ],
   "source": [
    "from sklearn.linear_model import LinearRegression\n",
    "\n",
    "def categorizeNew(value):\n",
    "    if value <= 0.5: \n",
    "        return 0 # not admitted\n",
    "    return 1 # admitted\n",
    "\n",
    "lr = LinearRegression() # criação do modelo\n",
    "lr.fit(X_train,y_train)\n",
    "\n",
    "previsto = lr.predict(X_test)\n",
    "\n",
    "serie_prevista = pd.Series(previsto) \n",
    "serie_prevista = serie_prevista.apply(categorizeNew)\n",
    "\n",
    "print('O acerto percentual é: '+\n",
    "str((\n",
    "np.count_nonzero(serie_prevista.values==y_test)\n",
    "/serie_prevista.size)*100))\n"
   ]
  },
  {
   "cell_type": "code",
   "execution_count": 357,
   "metadata": {},
   "outputs": [
    {
     "data": {
      "text/plain": [
       "0.8876750020231448"
      ]
     },
     "metadata": {},
     "output_type": "display_data"
    }
   ],
   "source": [
    "# regressao logística\n",
    "\n",
    "from sklearn.linear_model import LogisticRegression\n",
    "logreg = LogisticRegression(multi_class='multinomial',solver='lbfgs')\n",
    "logreg.fit(X_train, y_train )\n",
    "acuracia_logistica = logreg.score(X_test, y_test)\n",
    "display(logreg.score(X_test, y_test))\n"
   ]
  },
  {
   "cell_type": "code",
   "execution_count": 358,
   "metadata": {},
   "outputs": [
    {
     "data": {
      "text/plain": [
       "0.8905883305009307"
      ]
     },
     "execution_count": 358,
     "metadata": {},
     "output_type": "execute_result"
    }
   ],
   "source": [
    "#decision tree\n",
    "\n",
    "from sklearn import tree\n",
    "clf_dt = tree.DecisionTreeClassifier()\n",
    "clf_dt = clf_dt.fit(X_train, y_train)\n",
    "\n",
    "#predição\n",
    "y_pred = clf_dt.predict(X_test)\n",
    "acuracia_dt = clf_dt.score(X_test,y_test)\n",
    "acuracia_dt\n"
   ]
  }
 ],
 "metadata": {
  "kernelspec": {
   "display_name": "Python 3",
   "language": "python",
   "name": "python3"
  },
  "language_info": {
   "codemirror_mode": {
    "name": "ipython",
    "version": 3
   },
   "file_extension": ".py",
   "mimetype": "text/x-python",
   "name": "python",
   "nbconvert_exporter": "python",
   "pygments_lexer": "ipython3",
   "version": "3.7.3"
  }
 },
 "nbformat": 4,
 "nbformat_minor": 2
}
